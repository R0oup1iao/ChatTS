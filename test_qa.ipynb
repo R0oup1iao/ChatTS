{
 "cells": [
  {
   "cell_type": "code",
   "execution_count": 1,
   "metadata": {},
   "outputs": [],
   "source": [
    "import pandas as pd \n",
    "import numpy as np\n",
    "\n",
    "llm_df = pd.read_json('result/llm_qa_1000_sp.jsonl', lines=True)\n",
    "template_df = pd.read_json('result/template_qa_1000_sp.jsonl', lines=True)\n",
    "\n",
    "llm_label = pd.read_json('labels/llm_qa_1000_sp.json',)\n",
    "template_label = pd.read_json('labels/template_qa_1000_sp.json')\n",
    "\n",
    "df = pd.read_json('ChatTS-Training/data/chatts_dev.jsonl', lines=True)"
   ]
  },
  {
   "cell_type": "code",
   "execution_count": 4,
   "metadata": {},
   "outputs": [],
   "source": [
    "llm_ts = np.array(llm_df.timeseries[0])\n",
    "df_ts = np.array(df.timeseries[0])"
   ]
  },
  {
   "cell_type": "code",
   "execution_count": 6,
   "metadata": {},
   "outputs": [
    {
     "data": {
      "text/plain": [
       "(1, 1624, 1)"
      ]
     },
     "execution_count": 6,
     "metadata": {},
     "output_type": "execute_result"
    }
   ],
   "source": [
    "llm_ts.shape"
   ]
  },
  {
   "cell_type": "code",
   "execution_count": 7,
   "metadata": {},
   "outputs": [
    {
     "data": {
      "text/plain": [
       "(6, 512, 1)"
      ]
     },
     "execution_count": 7,
     "metadata": {},
     "output_type": "execute_result"
    }
   ],
   "source": [
    "df_ts.shape"
   ]
  }
 ],
 "metadata": {
  "kernelspec": {
   "display_name": "chatts",
   "language": "python",
   "name": "python3"
  },
  "language_info": {
   "codemirror_mode": {
    "name": "ipython",
    "version": 3
   },
   "file_extension": ".py",
   "mimetype": "text/x-python",
   "name": "python",
   "nbconvert_exporter": "python",
   "pygments_lexer": "ipython3",
   "version": "3.12.8"
  }
 },
 "nbformat": 4,
 "nbformat_minor": 2
}
