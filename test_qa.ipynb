{
 "cells": [
  {
   "cell_type": "code",
   "execution_count": 1,
   "metadata": {},
   "outputs": [],
   "source": [
    "import random\n",
    "from tqdm import tqdm\n",
    "import json\n",
    "import os\n",
    "from typing import *\n",
    "from chatts.ts_generator import generate_controlled_attributes, generate_time_series, attribute_to_text\n",
    "from chatts.encoding_utils import timeseries_encoding, timeseries_to_list\n",
    "from chatts.attribute_utils import metric_to_controlled_attributes\n",
    "\n",
    "\n",
    "# CONFIG\n",
    "ENCODING_METHOD = 'sp'\n",
    "SEQ_LEN = None  # Set to none for random seq_len\n",
    "TOTAL_CNT = 1000\n",
    "OUTPUT_DATASET = f'result/template_qa_{TOTAL_CNT}_{ENCODING_METHOD}.jsonl'\n",
    "OUTPUT_LABEL = f'labels/template_qa_{TOTAL_CNT}_{ENCODING_METHOD}.json'\n",
    "\n",
    "# All Config for TS Attributes (type & probability)\n",
    "metric_config = json.load(open('config/metric_set.json', 'rt'))\n"
   ]
  },
  {
   "cell_type": "code",
   "execution_count": 8,
   "metadata": {},
   "outputs": [
    {
     "name": "stdout",
     "output_type": "stream",
     "text": [
      "577 Traffic and Transportation Train Punctuality\n"
     ]
    }
   ],
   "source": [
    "current_seq_len = random.randint(64, 1024)\n",
    "# sample = random.choice(list(metric_config))\n",
    "sample = metric_config[8]\n",
    "category = sample['category']\n",
    "metric = random.choice(sample['metrics'])\n",
    "print(current_seq_len, category, metric)"
   ]
  },
  {
   "cell_type": "code",
   "execution_count": 12,
   "metadata": {},
   "outputs": [
    {
     "data": {
      "text/plain": [
       "{'unit': 'minute',\n",
       " 'seasonal': {'attributes': ['no periodic fluctuation'],\n",
       "  'amplitude': {'min': 0.0, 'max': 0.0},\n",
       "  'period': {'min': 0.0, 'max': 0.0}},\n",
       " 'trend': {'attributes': ['decrease', 'increase', 'keep steady', 'multiple'],\n",
       "  'start': {'min': 90.0, 'max': 100.0},\n",
       "  'amplitude': {'min': 0.0, 'max': 5.0}},\n",
       " 'noise': {'attributes': ['almost no noise']},\n",
       " 'change': {'attributes': ['downward spike', 'decrease after upward spike'],\n",
       "  'amplitude': {'min': 0.0, 'max': 10.0}}}"
      ]
     },
     "execution_count": 12,
     "metadata": {},
     "output_type": "execute_result"
    }
   ],
   "source": [
    "metric_to_controlled_attributes(metric)"
   ]
  },
  {
   "cell_type": "code",
   "execution_count": 15,
   "metadata": {},
   "outputs": [],
   "source": [
    "attribute_pool = generate_controlled_attributes(metric_to_controlled_attributes(metric))\n",
    "# timeseries, attribute_pool = generate_time_series(attribute_pool, current_seq_len)"
   ]
  },
  {
   "cell_type": "code",
   "execution_count": 16,
   "metadata": {},
   "outputs": [
    {
     "data": {
      "text/plain": [
       "{'seasonal': {'type': 'no periodic fluctuation', 'amplitude': 0.0},\n",
       " 'trend': {'type': 'keep steady',\n",
       "  'start': 97.20792905282714,\n",
       "  'amplitude': 2.8921043907460833},\n",
       " 'local': [{'type': 'downward spike',\n",
       "   'position_start': None,\n",
       "   'amplitude': 9.523040690961917},\n",
       "  {'type': 'downward spike',\n",
       "   'position_start': None,\n",
       "   'amplitude': 5.622325898302264},\n",
       "  {'type': 'downward spike',\n",
       "   'position_start': None,\n",
       "   'amplitude': 4.117755431806}],\n",
       " 'frequency': {'type': 'no periodicity'},\n",
       " 'noise': {'type': 'almost no noise'}}"
      ]
     },
     "execution_count": 16,
     "metadata": {},
     "output_type": "execute_result"
    }
   ],
   "source": [
    "attribute_pool"
   ]
  },
  {
   "cell_type": "code",
   "execution_count": 17,
   "metadata": {},
   "outputs": [],
   "source": [
    "timeseries, attribute_pool = generate_time_series(attribute_pool, current_seq_len)"
   ]
  },
  {
   "cell_type": "code",
   "execution_count": 20,
   "metadata": {},
   "outputs": [
    {
     "data": {
      "text/plain": [
       "[<matplotlib.lines.Line2D at 0x7a07c0fb7a40>]"
      ]
     },
     "execution_count": 20,
     "metadata": {},
     "output_type": "execute_result"
    },
    {
     "data": {
      "image/png": "[encoded data removed]",
      "text/plain": [
       "<Figure size 640x480 with 1 Axes>"
      ]
     },
     "metadata": {},
     "output_type": "display_data"
    }
   ],
   "source": [
    "import matplotlib.pyplot as plt\n",
    "\n",
    "plt.plot(timeseries)"
   ]
  },
  {
   "cell_type": "code",
   "execution_count": 21,
   "metadata": {},
   "outputs": [],
   "source": [
    "scaled_timeseries, cur_ts_prompt, _ = timeseries_encoding(timeseries, ENCODING_METHOD)"
   ]
  },
  {
   "cell_type": "code",
   "execution_count": 24,
   "metadata": {},
   "outputs": [
    {
     "data": {
      "text/plain": [
       "'[Value Offset: -97.1674|Value Scaling: 3.1608]<ts><ts/>'"
      ]
     },
     "execution_count": 24,
     "metadata": {},
     "output_type": "execute_result"
    }
   ],
   "source": [
    "cur_ts_prompt"
   ]
  }
 ],
 "metadata": {
  "kernelspec": {
   "display_name": "chatts",
   "language": "python",
   "name": "python3"
  },
  "language_info": {
   "codemirror_mode": {
    "name": "ipython",
    "version": 3
   },
   "file_extension": ".py",
   "mimetype": "text/x-python",
   "name": "python",
   "nbconvert_exporter": "python",
   "pygments_lexer": "ipython3",
   "version": "3.12.8"
  }
 },
 "nbformat": 4,
 "nbformat_minor": 2
}
